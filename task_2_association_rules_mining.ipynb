{
 "cells": [
  {
   "cell_type": "markdown",
   "id": "0db3b59f",
   "metadata": {},
   "source": [
    "## Data Dictionary\n",
    "\n",
    "- **InvoiceNo: Invoice number. Nominal, a 6-digit integral number uniquely assigned to each transaction. If this code starts with letter 'c', it indicates a cancellation.**\n",
    "- **StockCode: Product (item) code. Nominal, a 5-digit integral number uniquely assigned to each distinct product.**\n",
    "- **Description: Product (item) name. Nominal.** \n",
    "- **Quantity: The quantities of each product (item) per transaction. Numeric.**\n",
    "- **InvoiceDate: Invice Date and time. Numeric, the day and time when each transaction was generated.**\n",
    "- **UnitPrice: Unit price. Numeric, Product price per unit in sterling.**\n",
    "- **CustomerID: Customer number. Nominal, a 5-digit integral number uniquely assigned to each customer.**\n",
    "- **Country: Country name. Nominal, the name of the country where each customer resides.**\n"
   ]
  },
  {
   "cell_type": "markdown",
   "id": "69ca78bb",
   "metadata": {},
   "source": [
    "## Import Libraries"
   ]
  },
  {
   "cell_type": "code",
   "execution_count": 1,
   "id": "e42db36b",
   "metadata": {},
   "outputs": [],
   "source": [
    "#importing the neccesary libraries\n",
    "import pandas as pd\n",
    "import numpy as np\n",
    "import matplotlib.pyplot as plt\n",
    "import seaborn as sns\n",
    "from mlxtend.frequent_patterns  import apriori\n",
    "from mlxtend.frequent_patterns  import association_rules"
   ]
  },
  {
   "cell_type": "markdown",
   "id": "df3a9cb4",
   "metadata": {},
   "source": [
    "## Read and Load Data"
   ]
  },
  {
   "cell_type": "code",
   "execution_count": 2,
   "id": "d628266a",
   "metadata": {},
   "outputs": [],
   "source": [
    "df=pd.read_excel('Online Retail.xlsx')"
   ]
  },
  {
   "cell_type": "markdown",
   "id": "3962b5d8",
   "metadata": {},
   "source": [
    "## EDA"
   ]
  },
  {
   "cell_type": "code",
   "execution_count": 3,
   "id": "1df3cc78",
   "metadata": {},
   "outputs": [
    {
     "data": {
      "text/plain": [
       "(541909, 8)"
      ]
     },
     "execution_count": 3,
     "metadata": {},
     "output_type": "execute_result"
    }
   ],
   "source": [
    "# number of rows and columns in data\n",
    "df.shape"
   ]
  },
  {
   "cell_type": "code",
   "execution_count": 4,
   "id": "ee5a073c",
   "metadata": {},
   "outputs": [
    {
     "data": {
      "text/html": [
       "<div>\n",
       "<style scoped>\n",
       "    .dataframe tbody tr th:only-of-type {\n",
       "        vertical-align: middle;\n",
       "    }\n",
       "\n",
       "    .dataframe tbody tr th {\n",
       "        vertical-align: top;\n",
       "    }\n",
       "\n",
       "    .dataframe thead th {\n",
       "        text-align: right;\n",
       "    }\n",
       "</style>\n",
       "<table border=\"1\" class=\"dataframe\">\n",
       "  <thead>\n",
       "    <tr style=\"text-align: right;\">\n",
       "      <th></th>\n",
       "      <th>InvoiceNo</th>\n",
       "      <th>StockCode</th>\n",
       "      <th>Description</th>\n",
       "      <th>Quantity</th>\n",
       "      <th>InvoiceDate</th>\n",
       "      <th>UnitPrice</th>\n",
       "      <th>CustomerID</th>\n",
       "      <th>Country</th>\n",
       "    </tr>\n",
       "  </thead>\n",
       "  <tbody>\n",
       "    <tr>\n",
       "      <th>0</th>\n",
       "      <td>536365</td>\n",
       "      <td>85123A</td>\n",
       "      <td>WHITE HANGING HEART T-LIGHT HOLDER</td>\n",
       "      <td>6</td>\n",
       "      <td>2010-12-01 08:26:00</td>\n",
       "      <td>2.55</td>\n",
       "      <td>17850.0</td>\n",
       "      <td>United Kingdom</td>\n",
       "    </tr>\n",
       "    <tr>\n",
       "      <th>1</th>\n",
       "      <td>536365</td>\n",
       "      <td>71053</td>\n",
       "      <td>WHITE METAL LANTERN</td>\n",
       "      <td>6</td>\n",
       "      <td>2010-12-01 08:26:00</td>\n",
       "      <td>3.39</td>\n",
       "      <td>17850.0</td>\n",
       "      <td>United Kingdom</td>\n",
       "    </tr>\n",
       "    <tr>\n",
       "      <th>2</th>\n",
       "      <td>536365</td>\n",
       "      <td>84406B</td>\n",
       "      <td>CREAM CUPID HEARTS COAT HANGER</td>\n",
       "      <td>8</td>\n",
       "      <td>2010-12-01 08:26:00</td>\n",
       "      <td>2.75</td>\n",
       "      <td>17850.0</td>\n",
       "      <td>United Kingdom</td>\n",
       "    </tr>\n",
       "    <tr>\n",
       "      <th>3</th>\n",
       "      <td>536365</td>\n",
       "      <td>84029G</td>\n",
       "      <td>KNITTED UNION FLAG HOT WATER BOTTLE</td>\n",
       "      <td>6</td>\n",
       "      <td>2010-12-01 08:26:00</td>\n",
       "      <td>3.39</td>\n",
       "      <td>17850.0</td>\n",
       "      <td>United Kingdom</td>\n",
       "    </tr>\n",
       "    <tr>\n",
       "      <th>4</th>\n",
       "      <td>536365</td>\n",
       "      <td>84029E</td>\n",
       "      <td>RED WOOLLY HOTTIE WHITE HEART.</td>\n",
       "      <td>6</td>\n",
       "      <td>2010-12-01 08:26:00</td>\n",
       "      <td>3.39</td>\n",
       "      <td>17850.0</td>\n",
       "      <td>United Kingdom</td>\n",
       "    </tr>\n",
       "  </tbody>\n",
       "</table>\n",
       "</div>"
      ],
      "text/plain": [
       "  InvoiceNo StockCode                          Description  Quantity  \\\n",
       "0    536365    85123A   WHITE HANGING HEART T-LIGHT HOLDER         6   \n",
       "1    536365     71053                  WHITE METAL LANTERN         6   \n",
       "2    536365    84406B       CREAM CUPID HEARTS COAT HANGER         8   \n",
       "3    536365    84029G  KNITTED UNION FLAG HOT WATER BOTTLE         6   \n",
       "4    536365    84029E       RED WOOLLY HOTTIE WHITE HEART.         6   \n",
       "\n",
       "          InvoiceDate  UnitPrice  CustomerID         Country  \n",
       "0 2010-12-01 08:26:00       2.55     17850.0  United Kingdom  \n",
       "1 2010-12-01 08:26:00       3.39     17850.0  United Kingdom  \n",
       "2 2010-12-01 08:26:00       2.75     17850.0  United Kingdom  \n",
       "3 2010-12-01 08:26:00       3.39     17850.0  United Kingdom  \n",
       "4 2010-12-01 08:26:00       3.39     17850.0  United Kingdom  "
      ]
     },
     "execution_count": 4,
     "metadata": {},
     "output_type": "execute_result"
    }
   ],
   "source": [
    "# first five rows in data\n",
    "df.head()"
   ]
  },
  {
   "cell_type": "code",
   "execution_count": 5,
   "id": "c02ea78a",
   "metadata": {},
   "outputs": [
    {
     "name": "stdout",
     "output_type": "stream",
     "text": [
      "<class 'pandas.core.frame.DataFrame'>\n",
      "RangeIndex: 541909 entries, 0 to 541908\n",
      "Data columns (total 8 columns):\n",
      " #   Column       Non-Null Count   Dtype         \n",
      "---  ------       --------------   -----         \n",
      " 0   InvoiceNo    541909 non-null  object        \n",
      " 1   StockCode    541909 non-null  object        \n",
      " 2   Description  540455 non-null  object        \n",
      " 3   Quantity     541909 non-null  int64         \n",
      " 4   InvoiceDate  541909 non-null  datetime64[ns]\n",
      " 5   UnitPrice    541909 non-null  float64       \n",
      " 6   CustomerID   406829 non-null  float64       \n",
      " 7   Country      541909 non-null  object        \n",
      "dtypes: datetime64[ns](1), float64(2), int64(1), object(4)\n",
      "memory usage: 33.1+ MB\n"
     ]
    }
   ],
   "source": [
    "# basic information about data\n",
    "df.info()"
   ]
  },
  {
   "cell_type": "markdown",
   "id": "c2a0d2c6",
   "metadata": {},
   "source": [
    "## Data Cleaning"
   ]
  },
  {
   "cell_type": "code",
   "execution_count": 6,
   "id": "e972ef29",
   "metadata": {},
   "outputs": [
    {
     "data": {
      "text/plain": [
       "InvoiceNo           0\n",
       "StockCode           0\n",
       "Description      1454\n",
       "Quantity            0\n",
       "InvoiceDate         0\n",
       "UnitPrice           0\n",
       "CustomerID     135080\n",
       "Country             0\n",
       "dtype: int64"
      ]
     },
     "execution_count": 6,
     "metadata": {},
     "output_type": "execute_result"
    }
   ],
   "source": [
    "# checking missing values\n",
    "df.isnull().sum()"
   ]
  },
  {
   "cell_type": "code",
   "execution_count": 7,
   "id": "107a6d1f",
   "metadata": {},
   "outputs": [],
   "source": [
    "# dropping columns with missing values\n",
    "df.dropna(axis=0, inplace=True)"
   ]
  },
  {
   "cell_type": "code",
   "execution_count": 8,
   "id": "1ec4310d",
   "metadata": {},
   "outputs": [
    {
     "data": {
      "text/plain": [
       "5225"
      ]
     },
     "execution_count": 8,
     "metadata": {},
     "output_type": "execute_result"
    }
   ],
   "source": [
    "# Checking duplicates\n",
    "df.duplicated().sum()"
   ]
  },
  {
   "cell_type": "code",
   "execution_count": 9,
   "id": "ad457706",
   "metadata": {},
   "outputs": [],
   "source": [
    "# dropping duplicated rows\n",
    "df.drop_duplicates(keep='first', inplace=True)"
   ]
  },
  {
   "cell_type": "code",
   "execution_count": 10,
   "id": "bdc9c769",
   "metadata": {},
   "outputs": [],
   "source": [
    "#changing the \"InvoiceNo\" column to string type\n",
    "df[\"InvoiceNo\"] = df[\"InvoiceNo\"].astype('str')"
   ]
  },
  {
   "cell_type": "code",
   "execution_count": 11,
   "id": "fd9d0048",
   "metadata": {},
   "outputs": [
    {
     "data": {
      "text/plain": [
       "(8872, 8)"
      ]
     },
     "execution_count": 11,
     "metadata": {},
     "output_type": "execute_result"
    }
   ],
   "source": [
    "#checking number of  \"InvoiceNo\" column transaction containing 'C'\n",
    "df[df['InvoiceNo'].str.contains('C') ==True].shape"
   ]
  },
  {
   "cell_type": "code",
   "execution_count": 12,
   "id": "b9e74a05",
   "metadata": {},
   "outputs": [],
   "source": [
    "# getting the data with no cancelled transaction\n",
    "df=df[~df['InvoiceNo'].str.contains('C') ==True]"
   ]
  },
  {
   "cell_type": "code",
   "execution_count": 13,
   "id": "32dc3ea2",
   "metadata": {},
   "outputs": [],
   "source": [
    "# stripping values of the 'Description' column \n",
    "df['Description']=df['Description'].apply(lambda x: x.strip())"
   ]
  },
  {
   "cell_type": "code",
   "execution_count": 14,
   "id": "c6c7047f",
   "metadata": {},
   "outputs": [],
   "source": [
    "# getting the year, month and day from the 'InvoiceDate' column\n",
    "df['Year']=pd.DatetimeIndex(df['InvoiceDate']).year\n",
    "df['Month']=pd.DatetimeIndex(df['InvoiceDate']).month\n",
    "df['Day']=pd.DatetimeIndex(df['InvoiceDate']).day"
   ]
  },
  {
   "cell_type": "code",
   "execution_count": 15,
   "id": "65d22b65",
   "metadata": {},
   "outputs": [
    {
     "data": {
      "text/html": [
       "<div>\n",
       "<style scoped>\n",
       "    .dataframe tbody tr th:only-of-type {\n",
       "        vertical-align: middle;\n",
       "    }\n",
       "\n",
       "    .dataframe tbody tr th {\n",
       "        vertical-align: top;\n",
       "    }\n",
       "\n",
       "    .dataframe thead th {\n",
       "        text-align: right;\n",
       "    }\n",
       "</style>\n",
       "<table border=\"1\" class=\"dataframe\">\n",
       "  <thead>\n",
       "    <tr style=\"text-align: right;\">\n",
       "      <th></th>\n",
       "      <th>count</th>\n",
       "      <th>unique</th>\n",
       "      <th>top</th>\n",
       "      <th>freq</th>\n",
       "    </tr>\n",
       "  </thead>\n",
       "  <tbody>\n",
       "    <tr>\n",
       "      <th>InvoiceNo</th>\n",
       "      <td>392732</td>\n",
       "      <td>18536</td>\n",
       "      <td>576339</td>\n",
       "      <td>542</td>\n",
       "    </tr>\n",
       "    <tr>\n",
       "      <th>StockCode</th>\n",
       "      <td>392732</td>\n",
       "      <td>3665</td>\n",
       "      <td>85123A</td>\n",
       "      <td>2023</td>\n",
       "    </tr>\n",
       "    <tr>\n",
       "      <th>Description</th>\n",
       "      <td>392732</td>\n",
       "      <td>3866</td>\n",
       "      <td>WHITE HANGING HEART T-LIGHT HOLDER</td>\n",
       "      <td>2016</td>\n",
       "    </tr>\n",
       "    <tr>\n",
       "      <th>Country</th>\n",
       "      <td>392732</td>\n",
       "      <td>37</td>\n",
       "      <td>United Kingdom</td>\n",
       "      <td>349227</td>\n",
       "    </tr>\n",
       "  </tbody>\n",
       "</table>\n",
       "</div>"
      ],
      "text/plain": [
       "              count unique                                 top    freq\n",
       "InvoiceNo    392732  18536                              576339     542\n",
       "StockCode    392732   3665                              85123A    2023\n",
       "Description  392732   3866  WHITE HANGING HEART T-LIGHT HOLDER    2016\n",
       "Country      392732     37                      United Kingdom  349227"
      ]
     },
     "execution_count": 15,
     "metadata": {},
     "output_type": "execute_result"
    }
   ],
   "source": [
    "# describing the data\n",
    "df.describe(include='O').T"
   ]
  },
  {
   "cell_type": "code",
   "execution_count": 16,
   "id": "7b92632f",
   "metadata": {},
   "outputs": [
    {
     "data": {
      "text/plain": [
       "37"
      ]
     },
     "execution_count": 16,
     "metadata": {},
     "output_type": "execute_result"
    }
   ],
   "source": [
    "# number of unique coutries in data\n",
    "df.Country.nunique()"
   ]
  },
  {
   "cell_type": "code",
   "execution_count": 17,
   "id": "0b659b75",
   "metadata": {},
   "outputs": [
    {
     "data": {
      "image/png": "[encoded data removed]",
      "text/plain": [
       "<Figure size 432x288 with 1 Axes>"
      ]
     },
     "metadata": {
      "needs_background": "light"
     },
     "output_type": "display_data"
    }
   ],
   "source": [
    "# plotting Top Five Countries with Invoice Transactional Record\n",
    "ax=df.Country.value_counts(ascending=False)[0:5].plot(kind='bar')\n",
    "ax.bar_label(ax.containers[0])\n",
    "plt.title('Top Five Countries with Invoice Transactional Record')\n",
    "plt.xlabel('Country')\n",
    "plt.ylabel('Invoice Count')\n",
    "plt.xticks(rotation = 90);"
   ]
  },
  {
   "cell_type": "code",
   "execution_count": 18,
   "id": "4af73aaf",
   "metadata": {},
   "outputs": [],
   "source": [
    "# Getting the data from united kingdom only\n",
    "df_uk= df[df['Country'] ==\"United Kingdom\"].reset_index(drop=True)"
   ]
  },
  {
   "cell_type": "code",
   "execution_count": 19,
   "id": "2afaea40",
   "metadata": {},
   "outputs": [
    {
     "data": {
      "image/png": "[encoded data removed]",
      "text/plain": [
       "<Figure size 432x288 with 1 Axes>"
      ]
     },
     "metadata": {
      "needs_background": "light"
     },
     "output_type": "display_data"
    }
   ],
   "source": [
    "#top 10 most puchase product in uk by quantity\n",
    "ax=df_uk.groupby('Description')['Quantity'].sum().sort_values(ascending=False)[0:10].plot(kind='bar')\n",
    "ax.bar_label(ax.containers[0])\n",
    "plt.title('Top Ten Products by transaction quantity in United Kingdom')\n",
    "plt.xlabel('Country')\n",
    "plt.ylabel('Quantity')\n",
    "plt.xticks(rotation = 90);"
   ]
  },
  {
   "cell_type": "markdown",
   "id": "8e805267",
   "metadata": {},
   "source": [
    "## Generating Market Basket for Transactions from United Kingdom"
   ]
  },
  {
   "cell_type": "code",
   "execution_count": 20,
   "id": "407239d0",
   "metadata": {},
   "outputs": [],
   "source": [
    "# Generating market basket for united kingdom \n",
    "market_basket_uk=df_uk.groupby(['InvoiceNo', 'Description'])[\"Quantity\"].sum().unstack().reset_index().fillna(0).set_index(\"InvoiceNo\")"
   ]
  },
  {
   "cell_type": "code",
   "execution_count": 21,
   "id": "279beb53",
   "metadata": {},
   "outputs": [
    {
     "data": {
      "text/plain": [
       "(16649, 3833)"
      ]
     },
     "execution_count": 21,
     "metadata": {},
     "output_type": "execute_result"
    }
   ],
   "source": [
    "# shapeof market basket identified\n",
    "market_basket_uk.shape"
   ]
  },
  {
   "cell_type": "code",
   "execution_count": 22,
   "id": "799abfb9",
   "metadata": {},
   "outputs": [
    {
     "data": {
      "text/html": [
       "<div>\n",
       "<style scoped>\n",
       "    .dataframe tbody tr th:only-of-type {\n",
       "        vertical-align: middle;\n",
       "    }\n",
       "\n",
       "    .dataframe tbody tr th {\n",
       "        vertical-align: top;\n",
       "    }\n",
       "\n",
       "    .dataframe thead th {\n",
       "        text-align: right;\n",
       "    }\n",
       "</style>\n",
       "<table border=\"1\" class=\"dataframe\">\n",
       "  <thead>\n",
       "    <tr style=\"text-align: right;\">\n",
       "      <th>Description</th>\n",
       "      <th>10 COLOUR SPACEBOY PEN</th>\n",
       "      <th>12 COLOURED PARTY BALLOONS</th>\n",
       "      <th>12 DAISY PEGS IN WOOD BOX</th>\n",
       "      <th>12 EGG HOUSE PAINTED WOOD</th>\n",
       "      <th>12 HANGING EGGS HAND PAINTED</th>\n",
       "      <th>12 IVORY ROSE PEG PLACE SETTINGS</th>\n",
       "      <th>12 MESSAGE CARDS WITH ENVELOPES</th>\n",
       "      <th>12 PENCIL SMALL TUBE WOODLAND</th>\n",
       "      <th>12 PENCILS SMALL TUBE RED RETROSPOT</th>\n",
       "      <th>12 PENCILS SMALL TUBE SKULL</th>\n",
       "      <th>...</th>\n",
       "      <th>ZINC STAR T-LIGHT HOLDER</th>\n",
       "      <th>ZINC SWEETHEART SOAP DISH</th>\n",
       "      <th>ZINC SWEETHEART WIRE LETTER RACK</th>\n",
       "      <th>ZINC T-LIGHT HOLDER STAR LARGE</th>\n",
       "      <th>ZINC T-LIGHT HOLDER STARS LARGE</th>\n",
       "      <th>ZINC T-LIGHT HOLDER STARS SMALL</th>\n",
       "      <th>ZINC TOP  2 DOOR WOODEN SHELF</th>\n",
       "      <th>ZINC WILLIE WINKIE  CANDLE STICK</th>\n",
       "      <th>ZINC WIRE KITCHEN ORGANISER</th>\n",
       "      <th>ZINC WIRE SWEETHEART LETTER TRAY</th>\n",
       "    </tr>\n",
       "    <tr>\n",
       "      <th>InvoiceNo</th>\n",
       "      <th></th>\n",
       "      <th></th>\n",
       "      <th></th>\n",
       "      <th></th>\n",
       "      <th></th>\n",
       "      <th></th>\n",
       "      <th></th>\n",
       "      <th></th>\n",
       "      <th></th>\n",
       "      <th></th>\n",
       "      <th></th>\n",
       "      <th></th>\n",
       "      <th></th>\n",
       "      <th></th>\n",
       "      <th></th>\n",
       "      <th></th>\n",
       "      <th></th>\n",
       "      <th></th>\n",
       "      <th></th>\n",
       "      <th></th>\n",
       "      <th></th>\n",
       "    </tr>\n",
       "  </thead>\n",
       "  <tbody>\n",
       "    <tr>\n",
       "      <th>536365</th>\n",
       "      <td>0.0</td>\n",
       "      <td>0.0</td>\n",
       "      <td>0.0</td>\n",
       "      <td>0.0</td>\n",
       "      <td>0.0</td>\n",
       "      <td>0.0</td>\n",
       "      <td>0.0</td>\n",
       "      <td>0.0</td>\n",
       "      <td>0.0</td>\n",
       "      <td>0.0</td>\n",
       "      <td>...</td>\n",
       "      <td>0.0</td>\n",
       "      <td>0.0</td>\n",
       "      <td>0.0</td>\n",
       "      <td>0.0</td>\n",
       "      <td>0.0</td>\n",
       "      <td>0.0</td>\n",
       "      <td>0.0</td>\n",
       "      <td>0.0</td>\n",
       "      <td>0.0</td>\n",
       "      <td>0.0</td>\n",
       "    </tr>\n",
       "    <tr>\n",
       "      <th>536366</th>\n",
       "      <td>0.0</td>\n",
       "      <td>0.0</td>\n",
       "      <td>0.0</td>\n",
       "      <td>0.0</td>\n",
       "      <td>0.0</td>\n",
       "      <td>0.0</td>\n",
       "      <td>0.0</td>\n",
       "      <td>0.0</td>\n",
       "      <td>0.0</td>\n",
       "      <td>0.0</td>\n",
       "      <td>...</td>\n",
       "      <td>0.0</td>\n",
       "      <td>0.0</td>\n",
       "      <td>0.0</td>\n",
       "      <td>0.0</td>\n",
       "      <td>0.0</td>\n",
       "      <td>0.0</td>\n",
       "      <td>0.0</td>\n",
       "      <td>0.0</td>\n",
       "      <td>0.0</td>\n",
       "      <td>0.0</td>\n",
       "    </tr>\n",
       "    <tr>\n",
       "      <th>536367</th>\n",
       "      <td>0.0</td>\n",
       "      <td>0.0</td>\n",
       "      <td>0.0</td>\n",
       "      <td>0.0</td>\n",
       "      <td>0.0</td>\n",
       "      <td>0.0</td>\n",
       "      <td>0.0</td>\n",
       "      <td>0.0</td>\n",
       "      <td>0.0</td>\n",
       "      <td>0.0</td>\n",
       "      <td>...</td>\n",
       "      <td>0.0</td>\n",
       "      <td>0.0</td>\n",
       "      <td>0.0</td>\n",
       "      <td>0.0</td>\n",
       "      <td>0.0</td>\n",
       "      <td>0.0</td>\n",
       "      <td>0.0</td>\n",
       "      <td>0.0</td>\n",
       "      <td>0.0</td>\n",
       "      <td>0.0</td>\n",
       "    </tr>\n",
       "    <tr>\n",
       "      <th>536368</th>\n",
       "      <td>0.0</td>\n",
       "      <td>0.0</td>\n",
       "      <td>0.0</td>\n",
       "      <td>0.0</td>\n",
       "      <td>0.0</td>\n",
       "      <td>0.0</td>\n",
       "      <td>0.0</td>\n",
       "      <td>0.0</td>\n",
       "      <td>0.0</td>\n",
       "      <td>0.0</td>\n",
       "      <td>...</td>\n",
       "      <td>0.0</td>\n",
       "      <td>0.0</td>\n",
       "      <td>0.0</td>\n",
       "      <td>0.0</td>\n",
       "      <td>0.0</td>\n",
       "      <td>0.0</td>\n",
       "      <td>0.0</td>\n",
       "      <td>0.0</td>\n",
       "      <td>0.0</td>\n",
       "      <td>0.0</td>\n",
       "    </tr>\n",
       "    <tr>\n",
       "      <th>536369</th>\n",
       "      <td>0.0</td>\n",
       "      <td>0.0</td>\n",
       "      <td>0.0</td>\n",
       "      <td>0.0</td>\n",
       "      <td>0.0</td>\n",
       "      <td>0.0</td>\n",
       "      <td>0.0</td>\n",
       "      <td>0.0</td>\n",
       "      <td>0.0</td>\n",
       "      <td>0.0</td>\n",
       "      <td>...</td>\n",
       "      <td>0.0</td>\n",
       "      <td>0.0</td>\n",
       "      <td>0.0</td>\n",
       "      <td>0.0</td>\n",
       "      <td>0.0</td>\n",
       "      <td>0.0</td>\n",
       "      <td>0.0</td>\n",
       "      <td>0.0</td>\n",
       "      <td>0.0</td>\n",
       "      <td>0.0</td>\n",
       "    </tr>\n",
       "  </tbody>\n",
       "</table>\n",
       "<p>5 rows × 3833 columns</p>\n",
       "</div>"
      ],
      "text/plain": [
       "Description  10 COLOUR SPACEBOY PEN  12 COLOURED PARTY BALLOONS  \\\n",
       "InvoiceNo                                                         \n",
       "536365                          0.0                         0.0   \n",
       "536366                          0.0                         0.0   \n",
       "536367                          0.0                         0.0   \n",
       "536368                          0.0                         0.0   \n",
       "536369                          0.0                         0.0   \n",
       "\n",
       "Description  12 DAISY PEGS IN WOOD BOX  12 EGG HOUSE PAINTED WOOD  \\\n",
       "InvoiceNo                                                           \n",
       "536365                             0.0                        0.0   \n",
       "536366                             0.0                        0.0   \n",
       "536367                             0.0                        0.0   \n",
       "536368                             0.0                        0.0   \n",
       "536369                             0.0                        0.0   \n",
       "\n",
       "Description  12 HANGING EGGS HAND PAINTED  12 IVORY ROSE PEG PLACE SETTINGS  \\\n",
       "InvoiceNo                                                                     \n",
       "536365                                0.0                               0.0   \n",
       "536366                                0.0                               0.0   \n",
       "536367                                0.0                               0.0   \n",
       "536368                                0.0                               0.0   \n",
       "536369                                0.0                               0.0   \n",
       "\n",
       "Description  12 MESSAGE CARDS WITH ENVELOPES  12 PENCIL SMALL TUBE WOODLAND  \\\n",
       "InvoiceNo                                                                     \n",
       "536365                                   0.0                            0.0   \n",
       "536366                                   0.0                            0.0   \n",
       "536367                                   0.0                            0.0   \n",
       "536368                                   0.0                            0.0   \n",
       "536369                                   0.0                            0.0   \n",
       "\n",
       "Description  12 PENCILS SMALL TUBE RED RETROSPOT  12 PENCILS SMALL TUBE SKULL  \\\n",
       "InvoiceNo                                                                       \n",
       "536365                                       0.0                          0.0   \n",
       "536366                                       0.0                          0.0   \n",
       "536367                                       0.0                          0.0   \n",
       "536368                                       0.0                          0.0   \n",
       "536369                                       0.0                          0.0   \n",
       "\n",
       "Description  ...  ZINC STAR T-LIGHT HOLDER  ZINC SWEETHEART SOAP DISH  \\\n",
       "InvoiceNo    ...                                                        \n",
       "536365       ...                       0.0                        0.0   \n",
       "536366       ...                       0.0                        0.0   \n",
       "536367       ...                       0.0                        0.0   \n",
       "536368       ...                       0.0                        0.0   \n",
       "536369       ...                       0.0                        0.0   \n",
       "\n",
       "Description  ZINC SWEETHEART WIRE LETTER RACK  ZINC T-LIGHT HOLDER STAR LARGE  \\\n",
       "InvoiceNo                                                                       \n",
       "536365                                    0.0                             0.0   \n",
       "536366                                    0.0                             0.0   \n",
       "536367                                    0.0                             0.0   \n",
       "536368                                    0.0                             0.0   \n",
       "536369                                    0.0                             0.0   \n",
       "\n",
       "Description  ZINC T-LIGHT HOLDER STARS LARGE  ZINC T-LIGHT HOLDER STARS SMALL  \\\n",
       "InvoiceNo                                                                       \n",
       "536365                                   0.0                              0.0   \n",
       "536366                                   0.0                              0.0   \n",
       "536367                                   0.0                              0.0   \n",
       "536368                                   0.0                              0.0   \n",
       "536369                                   0.0                              0.0   \n",
       "\n",
       "Description  ZINC TOP  2 DOOR WOODEN SHELF  ZINC WILLIE WINKIE  CANDLE STICK  \\\n",
       "InvoiceNo                                                                      \n",
       "536365                                 0.0                               0.0   \n",
       "536366                                 0.0                               0.0   \n",
       "536367                                 0.0                               0.0   \n",
       "536368                                 0.0                               0.0   \n",
       "536369                                 0.0                               0.0   \n",
       "\n",
       "Description  ZINC WIRE KITCHEN ORGANISER  ZINC WIRE SWEETHEART LETTER TRAY  \n",
       "InvoiceNo                                                                   \n",
       "536365                               0.0                               0.0  \n",
       "536366                               0.0                               0.0  \n",
       "536367                               0.0                               0.0  \n",
       "536368                               0.0                               0.0  \n",
       "536369                               0.0                               0.0  \n",
       "\n",
       "[5 rows x 3833 columns]"
      ]
     },
     "execution_count": 22,
     "metadata": {},
     "output_type": "execute_result"
    }
   ],
   "source": [
    "#first five rows of market basket\n",
    "market_basket_uk.head()"
   ]
  },
  {
   "cell_type": "markdown",
   "id": "2c7f0638",
   "metadata": {},
   "source": [
    "## Creating function to hot encode the values"
   ]
  },
  {
   "cell_type": "code",
   "execution_count": 23,
   "id": "6eeb8878",
   "metadata": {},
   "outputs": [],
   "source": [
    "#Create function to hot encode the values\n",
    "def encode_values(x):\n",
    "    if x <= 0:\n",
    "        return 0\n",
    "    if x >= 1:\n",
    "        return 1"
   ]
  },
  {
   "cell_type": "markdown",
   "id": "4cc074bd",
   "metadata": {},
   "source": [
    "## Applying function to data"
   ]
  },
  {
   "cell_type": "code",
   "execution_count": 24,
   "id": "451742f3",
   "metadata": {},
   "outputs": [],
   "source": [
    "#Apply function to data\n",
    "market_basket_encoded_uk = market_basket_uk.applymap(encode_values)"
   ]
  },
  {
   "cell_type": "markdown",
   "id": "ea978d16",
   "metadata": {},
   "source": [
    "## filtering for only invoices with 2 or more items"
   ]
  },
  {
   "cell_type": "code",
   "execution_count": 25,
   "id": "c730eb84",
   "metadata": {},
   "outputs": [],
   "source": [
    "#filter for only invoices with 2 or more items\n",
    "market_basket_filtered_uk = market_basket_encoded_uk[(market_basket_encoded_uk > 0).sum(axis=1) >= 2]"
   ]
  },
  {
   "cell_type": "markdown",
   "id": "34a66c80",
   "metadata": {},
   "source": [
    "## Generating the frequent itemsets"
   ]
  },
  {
   "cell_type": "code",
   "execution_count": 26,
   "id": "d3d172bf",
   "metadata": {},
   "outputs": [
    {
     "name": "stderr",
     "output_type": "stream",
     "text": [
      "C:\\Users\\User\\anaconda3\\lib\\site-packages\\mlxtend\\frequent_patterns\\fpcommon.py:111: DeprecationWarning: DataFrames with non-bool types result in worse computationalperformance and their support might be discontinued in the future.Please use a DataFrame with bool type\n",
      "  warnings.warn(\n"
     ]
    }
   ],
   "source": [
    "#Generate the frequent itemsets\n",
    "frequent_itemsets_uk = apriori(market_basket_filtered_uk, min_support=0.03, use_colnames=True).sort_values(\"support\",ascending=False)"
   ]
  },
  {
   "cell_type": "code",
   "execution_count": 27,
   "id": "e0e3321d",
   "metadata": {},
   "outputs": [
    {
     "data": {
      "text/plain": [
       "(108, 2)"
      ]
     },
     "execution_count": 27,
     "metadata": {},
     "output_type": "execute_result"
    }
   ],
   "source": [
    "#shape of the frequent itemsets\n",
    "frequent_itemsets_uk.shape"
   ]
  },
  {
   "cell_type": "code",
   "execution_count": 28,
   "id": "a7096576",
   "metadata": {},
   "outputs": [
    {
     "data": {
      "text/html": [
       "<div>\n",
       "<style scoped>\n",
       "    .dataframe tbody tr th:only-of-type {\n",
       "        vertical-align: middle;\n",
       "    }\n",
       "\n",
       "    .dataframe tbody tr th {\n",
       "        vertical-align: top;\n",
       "    }\n",
       "\n",
       "    .dataframe thead th {\n",
       "        text-align: right;\n",
       "    }\n",
       "</style>\n",
       "<table border=\"1\" class=\"dataframe\">\n",
       "  <thead>\n",
       "    <tr style=\"text-align: right;\">\n",
       "      <th></th>\n",
       "      <th>support</th>\n",
       "    </tr>\n",
       "  </thead>\n",
       "  <tbody>\n",
       "    <tr>\n",
       "      <th>count</th>\n",
       "      <td>108.000000</td>\n",
       "    </tr>\n",
       "    <tr>\n",
       "      <th>mean</th>\n",
       "      <td>0.043869</td>\n",
       "    </tr>\n",
       "    <tr>\n",
       "      <th>std</th>\n",
       "      <td>0.014869</td>\n",
       "    </tr>\n",
       "    <tr>\n",
       "      <th>min</th>\n",
       "      <td>0.030047</td>\n",
       "    </tr>\n",
       "    <tr>\n",
       "      <th>25%</th>\n",
       "      <td>0.033104</td>\n",
       "    </tr>\n",
       "    <tr>\n",
       "      <th>50%</th>\n",
       "      <td>0.040290</td>\n",
       "    </tr>\n",
       "    <tr>\n",
       "      <th>75%</th>\n",
       "      <td>0.048615</td>\n",
       "    </tr>\n",
       "    <tr>\n",
       "      <th>max</th>\n",
       "      <td>0.121358</td>\n",
       "    </tr>\n",
       "  </tbody>\n",
       "</table>\n",
       "</div>"
      ],
      "text/plain": [
       "          support\n",
       "count  108.000000\n",
       "mean     0.043869\n",
       "std      0.014869\n",
       "min      0.030047\n",
       "25%      0.033104\n",
       "50%      0.040290\n",
       "75%      0.048615\n",
       "max      0.121358"
      ]
     },
     "execution_count": 28,
     "metadata": {},
     "output_type": "execute_result"
    }
   ],
   "source": [
    "#description the frequent itemsets\n",
    "frequent_itemsets_uk.describe()"
   ]
  },
  {
   "cell_type": "code",
   "execution_count": 29,
   "id": "5a72de3f",
   "metadata": {},
   "outputs": [
    {
     "data": {
      "text/html": [
       "<div>\n",
       "<style scoped>\n",
       "    .dataframe tbody tr th:only-of-type {\n",
       "        vertical-align: middle;\n",
       "    }\n",
       "\n",
       "    .dataframe tbody tr th {\n",
       "        vertical-align: top;\n",
       "    }\n",
       "\n",
       "    .dataframe thead th {\n",
       "        text-align: right;\n",
       "    }\n",
       "</style>\n",
       "<table border=\"1\" class=\"dataframe\">\n",
       "  <thead>\n",
       "    <tr style=\"text-align: right;\">\n",
       "      <th></th>\n",
       "      <th>support</th>\n",
       "      <th>itemsets</th>\n",
       "    </tr>\n",
       "  </thead>\n",
       "  <tbody>\n",
       "    <tr>\n",
       "      <th>99</th>\n",
       "      <td>0.121358</td>\n",
       "      <td>(WHITE HANGING HEART T-LIGHT HOLDER)</td>\n",
       "    </tr>\n",
       "    <tr>\n",
       "      <th>44</th>\n",
       "      <td>0.093197</td>\n",
       "      <td>(JUMBO BAG RED RETROSPOT)</td>\n",
       "    </tr>\n",
       "    <tr>\n",
       "      <th>80</th>\n",
       "      <td>0.090466</td>\n",
       "      <td>(REGENCY CAKESTAND 3 TIER)</td>\n",
       "    </tr>\n",
       "    <tr>\n",
       "      <th>6</th>\n",
       "      <td>0.084417</td>\n",
       "      <td>(ASSORTED COLOUR BIRD ORNAMENT)</td>\n",
       "    </tr>\n",
       "    <tr>\n",
       "      <th>71</th>\n",
       "      <td>0.082986</td>\n",
       "      <td>(PARTY BUNTING)</td>\n",
       "    </tr>\n",
       "  </tbody>\n",
       "</table>\n",
       "</div>"
      ],
      "text/plain": [
       "     support                              itemsets\n",
       "99  0.121358  (WHITE HANGING HEART T-LIGHT HOLDER)\n",
       "44  0.093197             (JUMBO BAG RED RETROSPOT)\n",
       "80  0.090466            (REGENCY CAKESTAND 3 TIER)\n",
       "6   0.084417       (ASSORTED COLOUR BIRD ORNAMENT)\n",
       "71  0.082986                       (PARTY BUNTING)"
      ]
     },
     "execution_count": 29,
     "metadata": {},
     "output_type": "execute_result"
    }
   ],
   "source": [
    "# first five rows of the frequent itemsets\n",
    "frequent_itemsets_uk.head()"
   ]
  },
  {
   "cell_type": "code",
   "execution_count": 30,
   "id": "489db3c2",
   "metadata": {},
   "outputs": [
    {
     "data": {
      "text/html": [
       "<div>\n",
       "<style scoped>\n",
       "    .dataframe tbody tr th:only-of-type {\n",
       "        vertical-align: middle;\n",
       "    }\n",
       "\n",
       "    .dataframe tbody tr th {\n",
       "        vertical-align: top;\n",
       "    }\n",
       "\n",
       "    .dataframe thead th {\n",
       "        text-align: right;\n",
       "    }\n",
       "</style>\n",
       "<table border=\"1\" class=\"dataframe\">\n",
       "  <thead>\n",
       "    <tr style=\"text-align: right;\">\n",
       "      <th></th>\n",
       "      <th>support</th>\n",
       "      <th>itemsets</th>\n",
       "    </tr>\n",
       "  </thead>\n",
       "  <tbody>\n",
       "    <tr>\n",
       "      <th>0</th>\n",
       "      <td>0.121358</td>\n",
       "      <td>(WHITE HANGING HEART T-LIGHT HOLDER)</td>\n",
       "    </tr>\n",
       "    <tr>\n",
       "      <th>1</th>\n",
       "      <td>0.093197</td>\n",
       "      <td>(JUMBO BAG RED RETROSPOT)</td>\n",
       "    </tr>\n",
       "    <tr>\n",
       "      <th>2</th>\n",
       "      <td>0.090466</td>\n",
       "      <td>(REGENCY CAKESTAND 3 TIER)</td>\n",
       "    </tr>\n",
       "    <tr>\n",
       "      <th>3</th>\n",
       "      <td>0.084417</td>\n",
       "      <td>(ASSORTED COLOUR BIRD ORNAMENT)</td>\n",
       "    </tr>\n",
       "    <tr>\n",
       "      <th>4</th>\n",
       "      <td>0.082986</td>\n",
       "      <td>(PARTY BUNTING)</td>\n",
       "    </tr>\n",
       "  </tbody>\n",
       "</table>\n",
       "</div>"
      ],
      "text/plain": [
       "    support                              itemsets\n",
       "0  0.121358  (WHITE HANGING HEART T-LIGHT HOLDER)\n",
       "1  0.093197             (JUMBO BAG RED RETROSPOT)\n",
       "2  0.090466            (REGENCY CAKESTAND 3 TIER)\n",
       "3  0.084417       (ASSORTED COLOUR BIRD ORNAMENT)\n",
       "4  0.082986                       (PARTY BUNTING)"
      ]
     },
     "execution_count": 30,
     "metadata": {},
     "output_type": "execute_result"
    }
   ],
   "source": [
    "#Sorting the frequent itemsets\n",
    "frequent_itemsets_uk.sort_values('support',ascending=False).reset_index(drop=True).head()"
   ]
  },
  {
   "cell_type": "markdown",
   "id": "cd8007ed",
   "metadata": {},
   "source": [
    "## Applyng association rules"
   ]
  },
  {
   "cell_type": "code",
   "execution_count": 32,
   "id": "6343fe4d",
   "metadata": {},
   "outputs": [],
   "source": [
    "#Apply association rules\n",
    "association_rules_uk = association_rules(frequent_itemsets_uk, metric=\"lift\", min_threshold=1).sort_values([\"confidence\",\"lift\"],ascending=False).reset_index(drop=True)"
   ]
  },
  {
   "cell_type": "code",
   "execution_count": 33,
   "id": "753f6a43",
   "metadata": {},
   "outputs": [
    {
     "data": {
      "text/plain": [
       "(8, 9)"
      ]
     },
     "execution_count": 33,
     "metadata": {},
     "output_type": "execute_result"
    }
   ],
   "source": [
    "#shape association rules identified\n",
    "association_rules_uk.shape"
   ]
  },
  {
   "cell_type": "code",
   "execution_count": 34,
   "id": "5f73a413",
   "metadata": {},
   "outputs": [
    {
     "data": {
      "text/html": [
       "<div>\n",
       "<style scoped>\n",
       "    .dataframe tbody tr th:only-of-type {\n",
       "        vertical-align: middle;\n",
       "    }\n",
       "\n",
       "    .dataframe tbody tr th {\n",
       "        vertical-align: top;\n",
       "    }\n",
       "\n",
       "    .dataframe thead th {\n",
       "        text-align: right;\n",
       "    }\n",
       "</style>\n",
       "<table border=\"1\" class=\"dataframe\">\n",
       "  <thead>\n",
       "    <tr style=\"text-align: right;\">\n",
       "      <th></th>\n",
       "      <th>antecedents</th>\n",
       "      <th>consequents</th>\n",
       "      <th>antecedent support</th>\n",
       "      <th>consequent support</th>\n",
       "      <th>support</th>\n",
       "      <th>confidence</th>\n",
       "      <th>lift</th>\n",
       "      <th>leverage</th>\n",
       "      <th>conviction</th>\n",
       "    </tr>\n",
       "  </thead>\n",
       "  <tbody>\n",
       "    <tr>\n",
       "      <th>0</th>\n",
       "      <td>(GREEN REGENCY TEACUP AND SAUCER)</td>\n",
       "      <td>(ROSES REGENCY TEACUP AND SAUCER)</td>\n",
       "      <td>0.039802</td>\n",
       "      <td>0.043900</td>\n",
       "      <td>0.030957</td>\n",
       "      <td>0.777778</td>\n",
       "      <td>17.717202</td>\n",
       "      <td>0.029210</td>\n",
       "      <td>4.302452</td>\n",
       "    </tr>\n",
       "    <tr>\n",
       "      <th>1</th>\n",
       "      <td>(ROSES REGENCY TEACUP AND SAUCER)</td>\n",
       "      <td>(GREEN REGENCY TEACUP AND SAUCER)</td>\n",
       "      <td>0.043900</td>\n",
       "      <td>0.039802</td>\n",
       "      <td>0.030957</td>\n",
       "      <td>0.705185</td>\n",
       "      <td>17.717202</td>\n",
       "      <td>0.029210</td>\n",
       "      <td>3.256952</td>\n",
       "    </tr>\n",
       "    <tr>\n",
       "      <th>2</th>\n",
       "      <td>(JUMBO BAG PINK POLKADOT)</td>\n",
       "      <td>(JUMBO BAG RED RETROSPOT)</td>\n",
       "      <td>0.052680</td>\n",
       "      <td>0.093197</td>\n",
       "      <td>0.032908</td>\n",
       "      <td>0.624691</td>\n",
       "      <td>6.702899</td>\n",
       "      <td>0.027999</td>\n",
       "      <td>2.416152</td>\n",
       "    </tr>\n",
       "    <tr>\n",
       "      <th>3</th>\n",
       "      <td>(LUNCH BAG PINK POLKADOT)</td>\n",
       "      <td>(LUNCH BAG RED RETROSPOT)</td>\n",
       "      <td>0.055086</td>\n",
       "      <td>0.072841</td>\n",
       "      <td>0.030632</td>\n",
       "      <td>0.556080</td>\n",
       "      <td>7.634188</td>\n",
       "      <td>0.026620</td>\n",
       "      <td>2.088574</td>\n",
       "    </tr>\n",
       "    <tr>\n",
       "      <th>4</th>\n",
       "      <td>(LUNCH BAG  BLACK SKULL.)</td>\n",
       "      <td>(LUNCH BAG RED RETROSPOT)</td>\n",
       "      <td>0.064646</td>\n",
       "      <td>0.072841</td>\n",
       "      <td>0.031478</td>\n",
       "      <td>0.486922</td>\n",
       "      <td>6.684737</td>\n",
       "      <td>0.026769</td>\n",
       "      <td>1.807051</td>\n",
       "    </tr>\n",
       "    <tr>\n",
       "      <th>5</th>\n",
       "      <td>(LUNCH BAG RED RETROSPOT)</td>\n",
       "      <td>(LUNCH BAG  BLACK SKULL.)</td>\n",
       "      <td>0.072841</td>\n",
       "      <td>0.064646</td>\n",
       "      <td>0.031478</td>\n",
       "      <td>0.432143</td>\n",
       "      <td>6.684737</td>\n",
       "      <td>0.026769</td>\n",
       "      <td>1.647164</td>\n",
       "    </tr>\n",
       "    <tr>\n",
       "      <th>6</th>\n",
       "      <td>(LUNCH BAG RED RETROSPOT)</td>\n",
       "      <td>(LUNCH BAG PINK POLKADOT)</td>\n",
       "      <td>0.072841</td>\n",
       "      <td>0.055086</td>\n",
       "      <td>0.030632</td>\n",
       "      <td>0.420536</td>\n",
       "      <td>7.634188</td>\n",
       "      <td>0.026620</td>\n",
       "      <td>1.630668</td>\n",
       "    </tr>\n",
       "    <tr>\n",
       "      <th>7</th>\n",
       "      <td>(JUMBO BAG RED RETROSPOT)</td>\n",
       "      <td>(JUMBO BAG PINK POLKADOT)</td>\n",
       "      <td>0.093197</td>\n",
       "      <td>0.052680</td>\n",
       "      <td>0.032908</td>\n",
       "      <td>0.353105</td>\n",
       "      <td>6.702899</td>\n",
       "      <td>0.027999</td>\n",
       "      <td>1.464412</td>\n",
       "    </tr>\n",
       "  </tbody>\n",
       "</table>\n",
       "</div>"
      ],
      "text/plain": [
       "                         antecedents                        consequents  \\\n",
       "0  (GREEN REGENCY TEACUP AND SAUCER)  (ROSES REGENCY TEACUP AND SAUCER)   \n",
       "1  (ROSES REGENCY TEACUP AND SAUCER)  (GREEN REGENCY TEACUP AND SAUCER)   \n",
       "2          (JUMBO BAG PINK POLKADOT)          (JUMBO BAG RED RETROSPOT)   \n",
       "3          (LUNCH BAG PINK POLKADOT)          (LUNCH BAG RED RETROSPOT)   \n",
       "4          (LUNCH BAG  BLACK SKULL.)          (LUNCH BAG RED RETROSPOT)   \n",
       "5          (LUNCH BAG RED RETROSPOT)          (LUNCH BAG  BLACK SKULL.)   \n",
       "6          (LUNCH BAG RED RETROSPOT)          (LUNCH BAG PINK POLKADOT)   \n",
       "7          (JUMBO BAG RED RETROSPOT)          (JUMBO BAG PINK POLKADOT)   \n",
       "\n",
       "   antecedent support  consequent support   support  confidence       lift  \\\n",
       "0            0.039802            0.043900  0.030957    0.777778  17.717202   \n",
       "1            0.043900            0.039802  0.030957    0.705185  17.717202   \n",
       "2            0.052680            0.093197  0.032908    0.624691   6.702899   \n",
       "3            0.055086            0.072841  0.030632    0.556080   7.634188   \n",
       "4            0.064646            0.072841  0.031478    0.486922   6.684737   \n",
       "5            0.072841            0.064646  0.031478    0.432143   6.684737   \n",
       "6            0.072841            0.055086  0.030632    0.420536   7.634188   \n",
       "7            0.093197            0.052680  0.032908    0.353105   6.702899   \n",
       "\n",
       "   leverage  conviction  \n",
       "0  0.029210    4.302452  \n",
       "1  0.029210    3.256952  \n",
       "2  0.027999    2.416152  \n",
       "3  0.026620    2.088574  \n",
       "4  0.026769    1.807051  \n",
       "5  0.026769    1.647164  \n",
       "6  0.026620    1.630668  \n",
       "7  0.027999    1.464412  "
      ]
     },
     "execution_count": 34,
     "metadata": {},
     "output_type": "execute_result"
    }
   ],
   "source": [
    "#association rules identified\n",
    "association_rules_uk"
   ]
  },
  {
   "cell_type": "markdown",
   "id": "4161f537",
   "metadata": {},
   "source": [
    "- **the first association rule: having an antecedent item ‘GREEN REGENCY TEACUP AND SAUCER’ has the lowest antecedent support and its consequent item ‘ROSES REGENCY TEACUP AND SAUCER’ having also a low support value, indicating both items are not as much frequent in the frequency itemset as other item, however the association is with 0.777778 confidence value, indicating that if ‘GREEN REGENCY TEACUP AND SAUCER’  is purchased by a customer then ‘ROSES REGENCY TEACUP AND SAUCER’ much likely to be purchase alongside  with over 77% confidence by the same customer, the lift value of over 17 confirms that the association rule is high**\n",
    "- **The second association rule is the converse of the first, it indicates that if ‘ROSES REGENCY TEACUP AND SAUCER’ is purchased by a customer then ‘GREEN REGENCY TEACUP AND SAUCER’ is much likely to be purchase alongside with over 70% confidence by the same customer, the lift value of 17.717202 confirms that the association rule is also strong.**\n",
    "- **The third association rule having an antecedent item ‘JUMBO BAG PINK POLKADOT’ and its consequent item ‘'JUMBO BAG RED RETROSPOT'’ having an association with 0.624691 confidence value, indicating that if ‘JUMBO BAG PINK POLKADOT ‘is purchased by a customer then 'JUMBO BAG RED RETROSPOT' is much likely to be purchase alongside with over 62% confidence by the same customer, the lift value of 6.702899 confirms that the association rule is strong.** \n",
    "- **the fourth association rule having an antecedent item ‘LUNCH BAG PINK POLKADOT’ and its consequent item ‘LUNCH BAG RED RETROSPOT is having an association with 0.556080 confidence value, indicating that if ‘LUNCH BAG PINK POLKADOT’ is purchased by a customer then ‘LUNCH BAG RED RETROSPOT is much likely to be purchase alongside with over 55% confidence by the same customer, the lift value of 7.634188 confirms that the association rule is strong.**\n",
    "- **the fifth association rule having an antecedent item ‘LUNCH BAG BLACK SKULL’ and its consequent item ‘LUNCH BAG RED RETROSPOT’ is having an association with 0.486922 confidence value, indicating that if ‘LUNCH BAG BLACK SKULL’ is purchased by a customer then ‘LUNCH BAG RED RETROSPOT is much likely to be purchase alongside with over 48% confidence by the same customer, the lift value of 6.684737 confirms that the association rule is strong.** \n",
    "- **the sixth association rule having an antecedent item ‘LUNCH BAG RED RETROSPOT’ and its consequent item ‘LUNCH BAG BLACK SKULL’ is having an association with 0.432143 confidence value, indicating that if ‘LUNCH BAG RED RETROSPOT’ is purchased by a customer then ‘LUNCH BAG BLACK SKULL’ is much likely to be purchase alongside with over 48% confidence by the same customer, the lift value of 6.684737 confirms that the association rule is strong.**\n",
    "- **the seventh association rule having an antecedent item ‘LUNCH BAG RED RETROSPOT’ and its consequent item ‘LUNCH BAG PINK POLKADOT’ is having an association with 0.420536 confidence value, indicating that if ‘LUNCH BAG RED RETROSPOT’ is purchased by a customer then ‘LUNCH BAG PINK POLKADOT’ is much likely to be purchase alongside with over 42% confidence by the same customer, the lift value of 7.634188 confirms that the association rule is strong.** \n",
    "\n",
    "- **The eight-association rule is the converse of the third, it indicates that if 'JUMBO BAG RED RETROSPOT' is purchased by a customer then ‘JUMBO BAG PINK POLKADOT ‘is much likely to be purchase alongside with 0.353105 confidence value, the lift value of the association is 6.702899 which confirms that the association rule is also strong although it has the lowest confidence value ad highest support value, indicating the items occurs most frequently in the frequent itemset.**\n",
    "\n"
   ]
  },
  {
   "cell_type": "code",
   "execution_count": null,
   "id": "b82ba333",
   "metadata": {},
   "outputs": [],
   "source": []
  }
 ],
 "metadata": {
  "kernelspec": {
   "display_name": "Python 3 (ipykernel)",
   "language": "python",
   "name": "python3"
  },
  "language_info": {
   "codemirror_mode": {
    "name": "ipython",
    "version": 3
   },
   "file_extension": ".py",
   "mimetype": "text/x-python",
   "name": "python",
   "nbconvert_exporter": "python",
   "pygments_lexer": "ipython3",
   "version": "3.9.12"
  }
 },
 "nbformat": 4,
 "nbformat_minor": 5
}
